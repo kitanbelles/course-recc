{
 "cells": [
  {
   "cell_type": "markdown",
   "metadata": {},
   "source": []
  },
  {
   "cell_type": "code",
   "execution_count": 74,
   "metadata": {},
   "outputs": [],
   "source": [
    "import pandas as pd\n",
    "import numpy as np \n",
    "import pyodbc"
   ]
  },
  {
   "cell_type": "code",
   "execution_count": 90,
   "metadata": {},
   "outputs": [],
   "source": [
    "server = 'tcp:wb-learningdb.database.windows.net'\n",
    "database= 'WB-LearningDB'\n",
    "username='wbuser'\n",
    "password='wbsidmach@123'\n",
    "driver= '{ODBC Driver 17 for SQL Server}'\n",
    "cnxn = pyodbc.connect('DRIVER='+driver+';SERVER='+server+';PORT=1433;DATABASE='+database+';UID='+username+';PWD='+ password)\n",
    "cursor = cnxn.cursor()\n",
    "query= \"SELECT * from Course\"\n",
    "#row = cursor.fetchall()\n",
    "#mydf=pd.DataFrame(row)\n",
    "mydf= pd.read_sql_query(query,cnxn)\n",
    "mydf.set_index(\"CourseName\", inplace=True)\n"
   ]
  },
  {
   "cell_type": "code",
   "execution_count": 79,
   "metadata": {},
   "outputs": [],
   "source": [
    "#rates=pd.read_csv(\"users_course_ratings.csv\")\n",
    "#for index, row in rates.iterrows():\n",
    "#    arr=(row[0],row[1],row[2],row[3])\n",
    "#    cursor.execute('INSERT INTO student_courserating ([user ID],[CourseName],[CourseID],[ratings]) VALUES (?,?,?,?)',arr)\n",
    "    \n",
    "#cnxn.commit()"
   ]
  },
  {
   "cell_type": "code",
   "execution_count": 39,
   "metadata": {},
   "outputs": [
    {
     "data": {
      "text/plain": [
       "Index(['Chemistry', 'Psychology', 'Anatomy', 'Physics',\n",
       "       'Information and Communication Engineering', 'Law',\n",
       "       'Business Administration', 'Nursing', 'Computer Engineering',\n",
       "       'Estate Management', 'Civil Engineering', 'Mechanical Engineering',\n",
       "       'Economics', 'Computer Science', 'Civil Engineering1', 'Accounting ',\n",
       "       'Medicine', 'Management and Information Science'],\n",
       "      dtype='object', name='CourseName')"
      ]
     },
     "execution_count": 39,
     "metadata": {},
     "output_type": "execute_result"
    }
   ],
   "source": [
    "#mydf\n",
    "mydf.index"
   ]
  },
  {
   "cell_type": "code",
   "execution_count": 92,
   "metadata": {},
   "outputs": [],
   "source": [
    "users_features=pd.read_sql_query(\"SELECT * FROM student_subjectname\",cnxn, index_col=\"user ID\")\n",
    "users_rating=pd.read_sql_query(\"SELECT * FROM student_courserating\",cnxn, index_col=\"user ID\")\n",
    "users_scores=pd.read_sql_query(\"SELECT * FROM student_subjectscore\",cnxn, index_col=\"user ID\")\n",
    "cnxn.close()"
   ]
  },
  {
   "cell_type": "code",
   "execution_count": 32,
   "metadata": {},
   "outputs": [],
   "source": [
    "# reading old data from database and new user. Use try catch for database open\n",
    "\n",
    "users_features=pd.read_csv(\"usersfeatures.csv\")\n",
    "users_rating=pd.read_csv(\"users_course_ratings.csv\")\n",
    "stud_subjects = [89, \"Mathematics\",\"Chemistry\",\"Agricultural Science\"]\n",
    "users_scores=pd.read_csv(\"usersscores.csv\")\n",
    "stud_scores = [89, 67, 52,45]\n"
   ]
  },
  {
   "cell_type": "code",
   "execution_count": 88,
   "metadata": {},
   "outputs": [
    {
     "name": "stdout",
     "output_type": "stream",
     "text": [
      "                best subject1     best subject2     best subject3\n",
      "user ID                                                          \n",
      "1                   Chemistry       Mathematics           Physics\n",
      "2                     Biology       Mathematics  English Language\n",
      "3        Agricultural Science  English Language         Chemistry\n",
      "4                     Physics  English Language         Chemistry\n",
      "5                     Physics       Mathematics         Chemistry\n",
      "        best subject1 best subject2 best subject3\n",
      "user ID                                          \n",
      "1                  61            43            67\n",
      "2                  69            73            48\n",
      "3                  89            98            82\n",
      "4                  80            60            20\n",
      "5                  60            80            60\n",
      "         CourseName                              CourseID  ratings\n",
      "user ID                                                           \n",
      "1         Chemistry  C0C8FABE-1837-49CB-B7A6-2F8EFBF90DFD        1\n",
      "2        Psychology  2FB67AA1-B4AB-493C-958E-4540000A8484        2\n",
      "3           Anatomy  7B7E0C1E-F2E9-411E-B312-497B43A6C76C        3\n",
      "4           Physics  2D62E52B-2AB1-4133-8658-4D9EB54E7C49        4\n",
      "5               Law  F817A835-C616-42F4-9E1F-502F3EC2A2CF        5\n"
     ]
    }
   ],
   "source": [
    "# Setting \"users ID\" as index \n",
    "\n",
    "#users_features.set_index('user ID', inplace=True)\n",
    "#users_rating.set_index('user ID', inplace=True)\n",
    "#users_scores.set_index('user ID', inplace=True)\n",
    "#stud_scores_series=pd.Series(stud_scores[1:],index=[\"best subject1\",\"best subject2\",\"best subject3\"])\n",
    "print(users_features.head())\n",
    "print(users_rating.head())\n",
    "print(users_scores.head())"
   ]
  },
  {
   "cell_type": "code",
   "execution_count": 4,
   "metadata": {},
   "outputs": [],
   "source": [
    "def check_sub():\n",
    "    corr_users=[]\n",
    "    stud_sub=stud_subjects[1:]\n",
    "    for index,row in users_features.iterrows():\n",
    "        if len(set(row).intersection(stud_sub))>=2:\n",
    "            corr_users.append(index)\n",
    "    return corr_users\n",
    "\n",
    "corr_users=check_sub() \n"
   ]
  },
  {
   "cell_type": "code",
   "execution_count": 34,
   "metadata": {},
   "outputs": [
    {
     "name": "stdout",
     "output_type": "stream",
     "text": [
      "          best subject1  best subject2  best subject3\n",
      "users ID                                             \n",
      "1                  3.05           2.15           3.35\n",
      "3                  4.45           4.90           4.10\n",
      "5                  3.00           4.00           3.00\n",
      "6                  5.00           3.00           2.00\n",
      "7                  1.00           3.00           4.00\n",
      "10                 1.05           1.70           3.00\n",
      "{1: -0.035616293993171295, 3: 0.24218265752921486, 5: -0.20546619877500563, 6: 0.9998586405930033, 7: -0.9998586405930033, 10: -0.922199717051799}\n",
      "Sort by items:\n",
      "6: 0.9998586405930033\n",
      "3: 0.24218265752921486\n",
      "1: -0.035616293993171295\n",
      "Top correlating users are [6, 3, 1]\n"
     ]
    }
   ],
   "source": [
    "# Here, we are calculating the correlation between old user scores and new user scores in order to \n",
    "# Get users with high correlation and predict the courses of the user with the highest recommendation \n",
    "\n",
    "\n",
    "user_corrcoeff={}\n",
    "old_users=((users_scores.loc[corr_users,:])/100)*5\n",
    "print(old_users)\n",
    "for index, row in old_users.iterrows():\n",
    "    user_corrcoeff[index]=stud_scores_series.corr(row)\n",
    "print(user_corrcoeff)\n",
    "\n",
    "#Sorting dictionary to get top n users with highest correlation \n",
    "\n",
    "top_corr_users=[]\n",
    "print ('Sort by items:')\n",
    "for key, value in sorted(user_corrcoeff.items(), key=lambda item: (item[1], item[0]), reverse = True)[0:3]:\n",
    "    print (\"%s: %s\" % (key, value))\n",
    "    top_corr_users.append(key)\n",
    "\n",
    "print(\"Top correlating users are %s\" % top_corr_users)"
   ]
  },
  {
   "cell_type": "code",
   "execution_count": 30,
   "metadata": {},
   "outputs": [
    {
     "name": "stdout",
     "output_type": "stream",
     "text": [
      "                    CourseName                              CourseID  ratings\n",
      "users ID                                                                     \n",
      "6         Building Engineering  2D8125C6-B724-47A9-9EE3-92842A9E8836        5\n",
      "3                    Chemistry  C0C8FABE-1837-49CB-B7A6-2F8EFBF90DFD        5\n",
      "1             Computer Science  61D5FFC5-6B06-48A4-A438-8F772F18A11D        5\n",
      "6                      Nursing  041BDA42-641E-44FD-A394-68D220642D86        4\n",
      "6                   Psychology  2FB67AA1-B4AB-493C-958E-4540000A8484        3\n",
      "['Building Engineering' 'Chemistry' 'Computer Science' 'Nursing'\n",
      " 'Psychology']\n"
     ]
    }
   ],
   "source": [
    "# Now, to actually give recommendation \n",
    "#print(top_corr_users)\n",
    "top=users_rating.loc[top_corr_users].sort_values('ratings', ascending=False, inplace=False).head(5)\n",
    "print(top)\n",
    "recc=top[:][\"CourseName\"].values\n",
    "print(recc)"
   ]
  }
 ],
 "metadata": {
  "kernelspec": {
   "display_name": "Python 3",
   "language": "python",
   "name": "python3"
  },
  "language_info": {
   "codemirror_mode": {
    "name": "ipython",
    "version": 3
   },
   "file_extension": ".py",
   "mimetype": "text/x-python",
   "name": "python",
   "nbconvert_exporter": "python",
   "pygments_lexer": "ipython3",
   "version": "3.7.1"
  }
 },
 "nbformat": 4,
 "nbformat_minor": 2
}
