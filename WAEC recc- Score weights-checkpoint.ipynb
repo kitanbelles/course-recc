{
 "cells": [
  {
   "cell_type": "markdown",
   "metadata": {},
   "source": [
    "In this engine, we are using users best 3 scores (extensible to five) as the user vector "
   ]
  },
  {
   "cell_type": "code",
   "execution_count": 1,
   "metadata": {},
   "outputs": [],
   "source": [
    "import pandas as pd\n",
    "import numpy as np"
   ]
  },
  {
   "cell_type": "code",
   "execution_count": 2,
   "metadata": {},
   "outputs": [],
   "source": [
    "users_features=pd.read_csv(\"users_features.csv\")\n",
    "users_ratings= pd.read_csv=('users_course_ratings.csv')\n",
    "users_scores=pd.read_csv(\"users_scores.csv\")\n",
    "stud_subjects = [89, \"Mathematics\",\"Chemistry\",\"Financial Accounting\"]\n",
    "stud_scores = [89, 67, 52,45]"
   ]
  },
  {
   "cell_type": "code",
   "execution_count": 64,
   "metadata": {},
   "outputs": [],
   "source": []
  },
  {
   "cell_type": "code",
   "execution_count": 20,
   "metadata": {},
   "outputs": [],
   "source": [
    "stud_subjects = [89, \"Mathematics\",\"Chemistry\",\"Financial Accounting\"]\n",
    "stud_subjects=pd.DataFrame(stud_subjects)"
   ]
  },
  {
   "cell_type": "code",
   "execution_count": 50,
   "metadata": {},
   "outputs": [
    {
     "name": "stdout",
     "output_type": "stream",
     "text": [
      "users ID                   1\n",
      "best subject1      chemistry\n",
      "best subject2    Mathematics\n",
      "best subject3        Physics\n",
      "Name: 0, dtype: object\n"
     ]
    },
    {
     "ename": "ValueError",
     "evalue": "The truth value of a Series is ambiguous. Use a.empty, a.bool(), a.item(), a.any() or a.all().",
     "output_type": "error",
     "traceback": [
      "\u001b[1;31m---------------------------------------------------------------------------\u001b[0m",
      "\u001b[1;31mValueError\u001b[0m                                Traceback (most recent call last)",
      "\u001b[1;32m<ipython-input-50-d4dd9bc23024>\u001b[0m in \u001b[0;36m<module>\u001b[1;34m\u001b[0m\n\u001b[0;32m     17\u001b[0m     \u001b[1;32mfor\u001b[0m \u001b[0mele\u001b[0m \u001b[1;32min\u001b[0m \u001b[0mstud_subjects\u001b[0m\u001b[1;33m:\u001b[0m\u001b[1;33m\u001b[0m\u001b[1;33m\u001b[0m\u001b[0m\n\u001b[0;32m     18\u001b[0m         \u001b[0mnum\u001b[0m\u001b[1;33m=\u001b[0m\u001b[1;36m0\u001b[0m\u001b[1;33m\u001b[0m\u001b[1;33m\u001b[0m\u001b[0m\n\u001b[1;32m---> 19\u001b[1;33m         \u001b[1;32mif\u001b[0m \u001b[0mrow\u001b[0m\u001b[1;33m.\u001b[0m\u001b[0mstr\u001b[0m\u001b[1;33m.\u001b[0m\u001b[0mcontains\u001b[0m\u001b[1;33m(\u001b[0m\u001b[1;34m\"ele\"\u001b[0m\u001b[1;33m)\u001b[0m\u001b[1;33m:\u001b[0m\u001b[1;33m\u001b[0m\u001b[1;33m\u001b[0m\u001b[0m\n\u001b[0m\u001b[0;32m     20\u001b[0m             \u001b[0mnum\u001b[0m\u001b[1;33m+=\u001b[0m\u001b[1;36m1\u001b[0m\u001b[1;33m\u001b[0m\u001b[1;33m\u001b[0m\u001b[0m\n\u001b[0;32m     21\u001b[0m         \u001b[1;32mif\u001b[0m \u001b[0mnum\u001b[0m\u001b[1;33m>=\u001b[0m\u001b[1;36m2\u001b[0m\u001b[1;33m:\u001b[0m\u001b[1;33m\u001b[0m\u001b[1;33m\u001b[0m\u001b[0m\n",
      "\u001b[1;32mC:\\ProgramData\\Anaconda3\\lib\\site-packages\\pandas\\core\\generic.py\u001b[0m in \u001b[0;36m__nonzero__\u001b[1;34m(self)\u001b[0m\n\u001b[0;32m   1574\u001b[0m         raise ValueError(\"The truth value of a {0} is ambiguous. \"\n\u001b[0;32m   1575\u001b[0m                          \u001b[1;34m\"Use a.empty, a.bool(), a.item(), a.any() or a.all().\"\u001b[0m\u001b[1;33m\u001b[0m\u001b[1;33m\u001b[0m\u001b[0m\n\u001b[1;32m-> 1576\u001b[1;33m                          .format(self.__class__.__name__))\n\u001b[0m\u001b[0;32m   1577\u001b[0m \u001b[1;33m\u001b[0m\u001b[0m\n\u001b[0;32m   1578\u001b[0m     \u001b[0m__bool__\u001b[0m \u001b[1;33m=\u001b[0m \u001b[0m__nonzero__\u001b[0m\u001b[1;33m\u001b[0m\u001b[1;33m\u001b[0m\u001b[0m\n",
      "\u001b[1;31mValueError\u001b[0m: The truth value of a Series is ambiguous. Use a.empty, a.bool(), a.item(), a.any() or a.all()."
     ]
    }
   ],
   "source": [
    "# Function to check for at least two of the new subjects in old data\n",
    "# returns an array of list. If list is empty, go and use another function. Not working yet\n",
    "\n",
    "cols=[\"best subject1\",\"best subject2\",\"best subject3\"]\n",
    "#users_features.loc[\"best subject1\",\"best subject2\",\"best subject3\"]\n",
    "#users_features.filter([\"best subject1\",\"best subject2\",\"best subject3\"], like='Mathematics', axis=0)\n",
    "#match=user_features[(user_features)]\n",
    "#users_features.loc[:, cols]\n",
    "#users_features.loc[:, cols] in stud_subjects.any()\n",
    "\n",
    "user_ind=[]\n",
    "for index, row in users_features.iterrows:\n",
    "    if row.str.contains(stud_subjects) \n",
    "    user_ind.append(index)\n",
    "#print(user_ind)\n",
    "\n",
    "\n",
    "for index, row in users_features.iterrows():\n",
    "    print(row)\n",
    "    for ele in stud_subjects:\n",
    "        num=0\n",
    "        if row.str.contains(\"ele\"): \n",
    "            num+=1\n",
    "        if num>=2:\n",
    "            user_ind.append(index)\n",
    "\n",
    "print(user_ind)\n",
    "    \n",
    "\n",
    "cond=[]\n",
    "\n",
    "#new = user_features['best subject1'].isin(['Mathematics'])\n",
    "#for index, row in users_features.iterrows:\n",
    "    "
   ]
  },
  {
   "cell_type": "code",
   "execution_count": 29,
   "metadata": {},
   "outputs": [
    {
     "data": {
      "text/html": [
       "<div>\n",
       "<style scoped>\n",
       "    .dataframe tbody tr th:only-of-type {\n",
       "        vertical-align: middle;\n",
       "    }\n",
       "\n",
       "    .dataframe tbody tr th {\n",
       "        vertical-align: top;\n",
       "    }\n",
       "\n",
       "    .dataframe thead th {\n",
       "        text-align: right;\n",
       "    }\n",
       "</style>\n",
       "<table border=\"1\" class=\"dataframe\">\n",
       "  <thead>\n",
       "    <tr style=\"text-align: right;\">\n",
       "      <th></th>\n",
       "      <th>users ID</th>\n",
       "      <th>best subject1</th>\n",
       "      <th>best subject2</th>\n",
       "      <th>best subject3</th>\n",
       "    </tr>\n",
       "  </thead>\n",
       "  <tbody>\n",
       "    <tr>\n",
       "      <th>0</th>\n",
       "      <td>1</td>\n",
       "      <td>chemistry</td>\n",
       "      <td>Mathematics</td>\n",
       "      <td>Physics</td>\n",
       "    </tr>\n",
       "    <tr>\n",
       "      <th>1</th>\n",
       "      <td>2</td>\n",
       "      <td>Biology</td>\n",
       "      <td>Mathematics</td>\n",
       "      <td>English Language</td>\n",
       "    </tr>\n",
       "    <tr>\n",
       "      <th>2</th>\n",
       "      <td>3</td>\n",
       "      <td>Agricultural Science</td>\n",
       "      <td>English Language</td>\n",
       "      <td>Chemistry</td>\n",
       "    </tr>\n",
       "    <tr>\n",
       "      <th>3</th>\n",
       "      <td>4</td>\n",
       "      <td>Physics</td>\n",
       "      <td>English Language</td>\n",
       "      <td>chemistry</td>\n",
       "    </tr>\n",
       "    <tr>\n",
       "      <th>4</th>\n",
       "      <td>5</td>\n",
       "      <td>Physics</td>\n",
       "      <td>Mathematics</td>\n",
       "      <td>chemistry</td>\n",
       "    </tr>\n",
       "    <tr>\n",
       "      <th>5</th>\n",
       "      <td>6</td>\n",
       "      <td>Mathematics</td>\n",
       "      <td>English Language</td>\n",
       "      <td>Agricultural Science</td>\n",
       "    </tr>\n",
       "    <tr>\n",
       "      <th>6</th>\n",
       "      <td>7</td>\n",
       "      <td>Biology</td>\n",
       "      <td>Mathematics</td>\n",
       "      <td>Chemistry</td>\n",
       "    </tr>\n",
       "    <tr>\n",
       "      <th>7</th>\n",
       "      <td>8</td>\n",
       "      <td>Physics</td>\n",
       "      <td>English Language</td>\n",
       "      <td>Chemistry</td>\n",
       "    </tr>\n",
       "    <tr>\n",
       "      <th>8</th>\n",
       "      <td>9</td>\n",
       "      <td>Mathematics</td>\n",
       "      <td>Physics</td>\n",
       "      <td>English Language</td>\n",
       "    </tr>\n",
       "    <tr>\n",
       "      <th>9</th>\n",
       "      <td>10</td>\n",
       "      <td>Biology</td>\n",
       "      <td>Chemistry</td>\n",
       "      <td>Mathematics</td>\n",
       "    </tr>\n",
       "  </tbody>\n",
       "</table>\n",
       "</div>"
      ],
      "text/plain": [
       "   users ID         best subject1     best subject2         best subject3\n",
       "0         1             chemistry       Mathematics               Physics\n",
       "1         2               Biology       Mathematics      English Language\n",
       "2         3  Agricultural Science  English Language             Chemistry\n",
       "3         4               Physics  English Language             chemistry\n",
       "4         5               Physics       Mathematics             chemistry\n",
       "5         6           Mathematics  English Language  Agricultural Science\n",
       "6         7               Biology       Mathematics             Chemistry\n",
       "7         8               Physics  English Language             Chemistry\n",
       "8         9           Mathematics           Physics      English Language\n",
       "9        10               Biology         Chemistry           Mathematics"
      ]
     },
     "execution_count": 29,
     "metadata": {},
     "output_type": "execute_result"
    }
   ],
   "source": [
    "users_features"
   ]
  },
  {
   "cell_type": "code",
   "execution_count": 8,
   "metadata": {},
   "outputs": [
    {
     "ename": "TypeError",
     "evalue": "'str' object is not callable",
     "output_type": "error",
     "traceback": [
      "\u001b[1;31m---------------------------------------------------------------------------\u001b[0m",
      "\u001b[1;31mTypeError\u001b[0m                                 Traceback (most recent call last)",
      "\u001b[1;32m<ipython-input-8-4d8182c1d8b8>\u001b[0m in \u001b[0;36m<module>\u001b[1;34m\u001b[0m\n\u001b[1;32m----> 1\u001b[1;33m \u001b[0musers_features\u001b[0m\u001b[1;33m=\u001b[0m\u001b[0mpd\u001b[0m\u001b[1;33m.\u001b[0m\u001b[0mread_csv\u001b[0m\u001b[1;33m(\u001b[0m\u001b[1;34m\"users_features.csv\"\u001b[0m\u001b[1;33m)\u001b[0m\u001b[1;33m\u001b[0m\u001b[1;33m\u001b[0m\u001b[0m\n\u001b[0m\u001b[0;32m      2\u001b[0m \u001b[0mstud\u001b[0m \u001b[1;33m=\u001b[0m \u001b[1;33m[\u001b[0m\u001b[1;36m89\u001b[0m\u001b[1;33m,\u001b[0m \u001b[1;34m\"Mathematics\"\u001b[0m\u001b[1;33m,\u001b[0m\u001b[1;34m\"Commerce\"\u001b[0m\u001b[1;33m,\u001b[0m\u001b[1;34m\"Financial Accounting\"\u001b[0m\u001b[1;33m]\u001b[0m\u001b[1;33m\u001b[0m\u001b[1;33m\u001b[0m\u001b[0m\n\u001b[0;32m      3\u001b[0m new_user=pd.DataFrame( data=[stud], \n\u001b[0;32m      4\u001b[0m                        columns= ['users ID', \"best subject1\",\"best subject2\",\"best subject3\"])\n\u001b[0;32m      5\u001b[0m \u001b[1;31m#features_cat=pd.concat([users_features,new_user],sort=None)\u001b[0m\u001b[1;33m\u001b[0m\u001b[1;33m\u001b[0m\u001b[1;33m\u001b[0m\u001b[0m\n",
      "\u001b[1;31mTypeError\u001b[0m: 'str' object is not callable"
     ]
    }
   ],
   "source": [
    "new_user=pd.DataFrame( data=[stud], \n",
    "                       columns= ['users ID', \"best subject1\",\"best subject2\",\"best subject3\"])\n",
    "#features_cat=pd.concat([users_features,new_user],sort=None)\n"
   ]
  },
  {
   "cell_type": "code",
   "execution_count": 66,
   "metadata": {},
   "outputs": [
    {
     "ename": "AttributeError",
     "evalue": "'str' object has no attribute 'head'",
     "output_type": "error",
     "traceback": [
      "\u001b[1;31m---------------------------------------------------------------------------\u001b[0m",
      "\u001b[1;31mAttributeError\u001b[0m                            Traceback (most recent call last)",
      "\u001b[1;32m<ipython-input-66-8394447f3442>\u001b[0m in \u001b[0;36m<module>\u001b[1;34m\u001b[0m\n\u001b[1;32m----> 1\u001b[1;33m \u001b[0mprint\u001b[0m\u001b[1;33m(\u001b[0m\u001b[0musers_ratings\u001b[0m\u001b[1;33m.\u001b[0m\u001b[0mhead\u001b[0m\u001b[1;33m(\u001b[0m\u001b[1;33m)\u001b[0m\u001b[1;33m)\u001b[0m\u001b[1;33m\u001b[0m\u001b[1;33m\u001b[0m\u001b[0m\n\u001b[0m",
      "\u001b[1;31mAttributeError\u001b[0m: 'str' object has no attribute 'head'"
     ]
    }
   ],
   "source": [
    "print(users_ratings.head())"
   ]
  },
  {
   "cell_type": "code",
   "execution_count": 3,
   "metadata": {},
   "outputs": [
    {
     "data": {
      "text/plain": [
       "users ID          int64\n",
       "best subject1    object\n",
       "best subject2    object\n",
       "best subject3    object\n",
       "dtype: object"
      ]
     },
     "execution_count": 3,
     "metadata": {},
     "output_type": "execute_result"
    }
   ],
   "source": [
    "users_features.dtypes"
   ]
  },
  {
   "cell_type": "code",
   "execution_count": 195,
   "metadata": {},
   "outputs": [],
   "source": [
    "stud = [89, \"Mathematics\",\"Commerce\",\"Financial Accounting\"]"
   ]
  },
  {
   "cell_type": "code",
   "execution_count": 196,
   "metadata": {},
   "outputs": [
    {
     "data": {
      "text/html": [
       "<div>\n",
       "<style scoped>\n",
       "    .dataframe tbody tr th:only-of-type {\n",
       "        vertical-align: middle;\n",
       "    }\n",
       "\n",
       "    .dataframe tbody tr th {\n",
       "        vertical-align: top;\n",
       "    }\n",
       "\n",
       "    .dataframe thead th {\n",
       "        text-align: right;\n",
       "    }\n",
       "</style>\n",
       "<table border=\"1\" class=\"dataframe\">\n",
       "  <thead>\n",
       "    <tr style=\"text-align: right;\">\n",
       "      <th></th>\n",
       "      <th>users ID</th>\n",
       "      <th>best subject1</th>\n",
       "      <th>best subject2</th>\n",
       "      <th>best subject3</th>\n",
       "    </tr>\n",
       "  </thead>\n",
       "  <tbody>\n",
       "    <tr>\n",
       "      <th>0</th>\n",
       "      <td>89</td>\n",
       "      <td>Mathematics</td>\n",
       "      <td>Commerce</td>\n",
       "      <td>Financial Accounting</td>\n",
       "    </tr>\n",
       "  </tbody>\n",
       "</table>\n",
       "</div>"
      ],
      "text/plain": [
       "   users ID best subject1 best subject2         best subject3\n",
       "0        89   Mathematics      Commerce  Financial Accounting"
      ]
     },
     "execution_count": 196,
     "metadata": {},
     "output_type": "execute_result"
    }
   ],
   "source": [
    "new_user=pd.DataFrame( data=[stud], \n",
    "                       columns= ['users ID', \"best subject1\",\"best subject2\",\"best subject3\"])\n",
    "new_user"
   ]
  },
  {
   "cell_type": "code",
   "execution_count": 235,
   "metadata": {},
   "outputs": [],
   "source": [
    "#data is string, have to convert to category, in a new dataframe\n",
    "# alt. initialize with np.zeros, with shape of existing df and append values. More complex\n",
    "# joining old data and new data into ne datafram to then compare from \n",
    "\n",
    "#features_cat=pd.concat([users_features,new_user],sort=None)\n",
    "#student_feat_cat=pd.DataFrame()\n",
    "#features_cat.append(users_features)\n",
    "\n",
    "#student_feat_cat['users ID']=new_user['users ID']\n",
    "#student_feat_cat['best subject1']=new_user['best subject1'].astype('category').cat.codes\n",
    "#student_feat_cat['best subject2']=new_user['best subject2'].astype('category').cat.codes\n",
    "#student_feat_cat['best subject3']=new_user['best subject3'].astype('category').cat.codes\n",
    "\n",
    "features_cat['users ID']=features_cat['users ID']\n",
    "features_cat['best subject1']=features_cat['best subject1'].astype('category').cat.codes\n",
    "features_cat['best subject2']=features_cat['best subject2'].astype('category').cat.codes\n",
    "features_cat['best subject3']=features_cat['best subject3'].astype('category').cat.codes\n",
    "#features_cat.set_index('users ID', inplace=True)"
   ]
  },
  {
   "cell_type": "code",
   "execution_count": 236,
   "metadata": {
    "scrolled": true
   },
   "outputs": [
    {
     "data": {
      "text/html": [
       "<div>\n",
       "<style scoped>\n",
       "    .dataframe tbody tr th:only-of-type {\n",
       "        vertical-align: middle;\n",
       "    }\n",
       "\n",
       "    .dataframe tbody tr th {\n",
       "        vertical-align: top;\n",
       "    }\n",
       "\n",
       "    .dataframe thead th {\n",
       "        text-align: right;\n",
       "    }\n",
       "</style>\n",
       "<table border=\"1\" class=\"dataframe\">\n",
       "  <thead>\n",
       "    <tr style=\"text-align: right;\">\n",
       "      <th></th>\n",
       "      <th>users ID</th>\n",
       "      <th>best subject1</th>\n",
       "      <th>best subject2</th>\n",
       "      <th>best subject3</th>\n",
       "    </tr>\n",
       "  </thead>\n",
       "  <tbody>\n",
       "    <tr>\n",
       "      <th>0</th>\n",
       "      <td>1</td>\n",
       "      <td>4</td>\n",
       "      <td>3</td>\n",
       "      <td>5</td>\n",
       "    </tr>\n",
       "    <tr>\n",
       "      <th>1</th>\n",
       "      <td>2</td>\n",
       "      <td>1</td>\n",
       "      <td>3</td>\n",
       "      <td>2</td>\n",
       "    </tr>\n",
       "    <tr>\n",
       "      <th>2</th>\n",
       "      <td>3</td>\n",
       "      <td>0</td>\n",
       "      <td>2</td>\n",
       "      <td>1</td>\n",
       "    </tr>\n",
       "    <tr>\n",
       "      <th>3</th>\n",
       "      <td>4</td>\n",
       "      <td>3</td>\n",
       "      <td>2</td>\n",
       "      <td>6</td>\n",
       "    </tr>\n",
       "    <tr>\n",
       "      <th>4</th>\n",
       "      <td>5</td>\n",
       "      <td>3</td>\n",
       "      <td>3</td>\n",
       "      <td>6</td>\n",
       "    </tr>\n",
       "    <tr>\n",
       "      <th>5</th>\n",
       "      <td>6</td>\n",
       "      <td>2</td>\n",
       "      <td>2</td>\n",
       "      <td>0</td>\n",
       "    </tr>\n",
       "    <tr>\n",
       "      <th>6</th>\n",
       "      <td>7</td>\n",
       "      <td>1</td>\n",
       "      <td>3</td>\n",
       "      <td>1</td>\n",
       "    </tr>\n",
       "    <tr>\n",
       "      <th>7</th>\n",
       "      <td>8</td>\n",
       "      <td>3</td>\n",
       "      <td>2</td>\n",
       "      <td>1</td>\n",
       "    </tr>\n",
       "    <tr>\n",
       "      <th>8</th>\n",
       "      <td>9</td>\n",
       "      <td>2</td>\n",
       "      <td>4</td>\n",
       "      <td>2</td>\n",
       "    </tr>\n",
       "    <tr>\n",
       "      <th>9</th>\n",
       "      <td>10</td>\n",
       "      <td>1</td>\n",
       "      <td>0</td>\n",
       "      <td>4</td>\n",
       "    </tr>\n",
       "    <tr>\n",
       "      <th>0</th>\n",
       "      <td>89</td>\n",
       "      <td>2</td>\n",
       "      <td>1</td>\n",
       "      <td>3</td>\n",
       "    </tr>\n",
       "  </tbody>\n",
       "</table>\n",
       "</div>"
      ],
      "text/plain": [
       "   users ID  best subject1  best subject2  best subject3\n",
       "0         1              4              3              5\n",
       "1         2              1              3              2\n",
       "2         3              0              2              1\n",
       "3         4              3              2              6\n",
       "4         5              3              3              6\n",
       "5         6              2              2              0\n",
       "6         7              1              3              1\n",
       "7         8              3              2              1\n",
       "8         9              2              4              2\n",
       "9        10              1              0              4\n",
       "0        89              2              1              3"
      ]
     },
     "execution_count": 236,
     "metadata": {},
     "output_type": "execute_result"
    }
   ],
   "source": [
    "features_cat"
   ]
  },
  {
   "cell_type": "code",
   "execution_count": 93,
   "metadata": {},
   "outputs": [
    {
     "data": {
      "text/plain": [
       "0    1.0\n",
       "1    1.0\n",
       "2   -1.0\n",
       "dtype: float64"
      ]
     },
     "execution_count": 93,
     "metadata": {},
     "output_type": "execute_result"
    }
   ],
   "source": [
    "# Testing how corrwith works\n",
    "\n",
    "#dfa= pd.DataFrame(np.zeros((1,4)) ,columns=['a','b','c','d'])\n",
    "#dfa.iloc[0] = [2,6,8,12]\n",
    "#dfb= pd.DataFrame([[2,6,8,12],[1,3,4,6],[-1,-3,-4,-6]], columns=['a','b','c','d'])\n",
    "\n",
    "#dfb.corrwith(dfa.iloc[0], axis=1)\n",
    "\n",
    "#user_feat.corrwith(new_user.iloc[0], axis=1)\n"
   ]
  },
  {
   "cell_type": "code",
   "execution_count": 283,
   "metadata": {},
   "outputs": [
    {
     "name": "stdout",
     "output_type": "stream",
     "text": [
      "          best subject1  best subject2  best subject3\n",
      "users ID                                             \n",
      "1                     4              3              5\n",
      "2                     1              3              2\n",
      "3                     0              2              1\n",
      "4                     3              2              6\n",
      "5                     3              3              6\n",
      "6                     2              2              0\n",
      "7                     1              3              1\n",
      "8                     3              2              1\n",
      "9                     2              4              2\n",
      "10                    1              0              4\n",
      "89                    2              1              3\n",
      "(3,)\n",
      "{1: 1.0, 2: -0.5, 3: -0.5, 4: 0.9607689228305228, 5: 0.8660254037844387, 6: -0.8660254037844387, 7: -0.8660254037844385, 8: -0.5, 9: -0.8660254037844387, 10: 0.9607689228305228, 89: 1.0}\n"
     ]
    }
   ],
   "source": [
    "# trying to get my corr as a key (index) : value dictionary\n",
    "\n",
    "#help(dict)\n",
    "user_corr={}\n",
    "#user_corr[8]=0\n",
    "#index=8\n",
    "#features_cat.iloc[index].corr(new_user_cat)\n",
    "#features_cat.index, features_cat.corrwith(new_user_cat,axis=1)\n",
    "#for i in features_cat:\n",
    "#    user_corr[features_cat.index]=features_cat.iloc[index].corr(new_user_cat)\n",
    "\n",
    "#user_corr\n",
    "#cor={}\n",
    "#ftn=features_cat.set_index(\"users ID\")\n",
    "#us_cat=features_cat.iloc[-1]\n",
    "#for index, row in ftn.iterrows():\n",
    "#    cor[index]=row\n",
    "#    print(index)\n",
    "#    print(row)\n",
    "#new_user_cat=new_user_cat.drop(\"users ID\")\n",
    "\n",
    "for index,row in ftn.iterrows():\n",
    "    cor[index]=row.corr(us_cate)\n",
    "#print(ftn.dtypes)\n",
    "#print(us_cat[\"users ID\"])\n",
    "#us_cat.set_index(\"users ID\")\n",
    "#us_cate=us_cat.drop(\"users ID\")\n",
    "#us_cate\n",
    "print(ftn)\n",
    "print(us_cate.shape)\n",
    "print(cor)"
   ]
  },
  {
   "cell_type": "code",
   "execution_count": 312,
   "metadata": {},
   "outputs": [
    {
     "name": "stdout",
     "output_type": "stream",
     "text": [
      "[-0.8660254037844387, -0.8660254037844387, -0.8660254037844385, -0.5, -0.5, -0.5, 0.8660254037844387, 0.9607689228305228, 0.9607689228305228, 1.0, 1.0]\n",
      "Sort by items:\n",
      "1: 1.0\n",
      "10: 0.9607689228305228\n",
      "4: 0.9607689228305228\n",
      "5: 0.8660254037844387\n",
      "8: -0.5\n",
      "Top correlating users are [1, 10, 4, 5, 8]\n"
     ]
    }
   ],
   "source": [
    "# Sorting dictionary to get top n users with highest correlation \n",
    "\n",
    "print(sorted(cor.values()))\n",
    "#for key,val in sorted(cor.values):\n",
    "#   print(key,val)\n",
    "\n",
    "top_corr_users=[]\n",
    "print ('Sort by items:')\n",
    "for key, value in sorted(cor.items(), key=lambda item: (item[1], item[0]), reverse = True)[1:6]:\n",
    "    print (\"%s: %s\" % (key, value))\n",
    "    top_corr_users.append(key)\n",
    "print(\"Top correlating users are %s\" % top_corr_users)"
   ]
  },
  {
   "cell_type": "code",
   "execution_count": 281,
   "metadata": {},
   "outputs": [
    {
     "name": "stdout",
     "output_type": "stream",
     "text": [
      "(11, 4)\n",
      "(4,)\n"
     ]
    }
   ],
   "source": [
    "#Actual correlation\n",
    "# first, get new user weights then drop from total user features then get correlation between them \n",
    "\n",
    "#new_user_cat=features_cat.iloc[-1]\n",
    "#features_cat.drop(features_cat.index[-1], inplace=True)\n",
    "ft=zip(features_cat.index, features_cat.corrwith(new_user_cat,axis=1))\n",
    "a,n=zip(*ft)\n",
    "#n.sort()\n",
    "print(features_cat.shape)\n",
    "print(new_user_cat.shape)"
   ]
  },
  {
   "cell_type": "code",
   "execution_count": 192,
   "metadata": {},
   "outputs": [
    {
     "data": {
      "text/plain": [
       "best subject1             Mathematics\n",
       "best subject2                Commerce\n",
       "best subject3    Financial Accounting\n",
       "Name: 89, dtype: object"
      ]
     },
     "execution_count": 192,
     "metadata": {},
     "output_type": "execute_result"
    }
   ],
   "source": [
    "new_user_cat"
   ]
  },
  {
   "cell_type": "code",
   "execution_count": 78,
   "metadata": {},
   "outputs": [],
   "source": [
    "#users_features.append(new_user)\n",
    "\n",
    "ft=pd.concat([users_features,new_user],sort=None)"
   ]
  },
  {
   "cell_type": "code",
   "execution_count": 79,
   "metadata": {},
   "outputs": [
    {
     "data": {
      "text/html": [
       "<div>\n",
       "<style scoped>\n",
       "    .dataframe tbody tr th:only-of-type {\n",
       "        vertical-align: middle;\n",
       "    }\n",
       "\n",
       "    .dataframe tbody tr th {\n",
       "        vertical-align: top;\n",
       "    }\n",
       "\n",
       "    .dataframe thead th {\n",
       "        text-align: right;\n",
       "    }\n",
       "</style>\n",
       "<table border=\"1\" class=\"dataframe\">\n",
       "  <thead>\n",
       "    <tr style=\"text-align: right;\">\n",
       "      <th></th>\n",
       "      <th>users ID</th>\n",
       "      <th>best subject1</th>\n",
       "      <th>best subject2</th>\n",
       "      <th>best subject3</th>\n",
       "    </tr>\n",
       "  </thead>\n",
       "  <tbody>\n",
       "    <tr>\n",
       "      <th>0</th>\n",
       "      <td>1</td>\n",
       "      <td>chemistry</td>\n",
       "      <td>Mathematics</td>\n",
       "      <td>Physics</td>\n",
       "    </tr>\n",
       "    <tr>\n",
       "      <th>1</th>\n",
       "      <td>2</td>\n",
       "      <td>Biology</td>\n",
       "      <td>Mathematics</td>\n",
       "      <td>English Language</td>\n",
       "    </tr>\n",
       "    <tr>\n",
       "      <th>2</th>\n",
       "      <td>3</td>\n",
       "      <td>Agricultural Science</td>\n",
       "      <td>English Language</td>\n",
       "      <td>Chemistry</td>\n",
       "    </tr>\n",
       "    <tr>\n",
       "      <th>3</th>\n",
       "      <td>4</td>\n",
       "      <td>Physics</td>\n",
       "      <td>English Language</td>\n",
       "      <td>chemistry</td>\n",
       "    </tr>\n",
       "    <tr>\n",
       "      <th>4</th>\n",
       "      <td>5</td>\n",
       "      <td>Physics</td>\n",
       "      <td>Mathematics</td>\n",
       "      <td>chemistry</td>\n",
       "    </tr>\n",
       "    <tr>\n",
       "      <th>5</th>\n",
       "      <td>6</td>\n",
       "      <td>Mathematics</td>\n",
       "      <td>English Language</td>\n",
       "      <td>Agricultural Science</td>\n",
       "    </tr>\n",
       "    <tr>\n",
       "      <th>6</th>\n",
       "      <td>7</td>\n",
       "      <td>Biology</td>\n",
       "      <td>Mathematics</td>\n",
       "      <td>Chemistry</td>\n",
       "    </tr>\n",
       "    <tr>\n",
       "      <th>7</th>\n",
       "      <td>8</td>\n",
       "      <td>Physics</td>\n",
       "      <td>English Language</td>\n",
       "      <td>Chemistry</td>\n",
       "    </tr>\n",
       "    <tr>\n",
       "      <th>8</th>\n",
       "      <td>9</td>\n",
       "      <td>Mathematics</td>\n",
       "      <td>Physics</td>\n",
       "      <td>English Language</td>\n",
       "    </tr>\n",
       "    <tr>\n",
       "      <th>9</th>\n",
       "      <td>10</td>\n",
       "      <td>Biology</td>\n",
       "      <td>Chemistry</td>\n",
       "      <td>Mathematics</td>\n",
       "    </tr>\n",
       "    <tr>\n",
       "      <th>0</th>\n",
       "      <td>89</td>\n",
       "      <td>Mathematics</td>\n",
       "      <td>Commerce</td>\n",
       "      <td>Financial Accounting</td>\n",
       "    </tr>\n",
       "  </tbody>\n",
       "</table>\n",
       "</div>"
      ],
      "text/plain": [
       "   users ID         best subject1     best subject2         best subject3\n",
       "0         1             chemistry       Mathematics               Physics\n",
       "1         2               Biology       Mathematics      English Language\n",
       "2         3  Agricultural Science  English Language             Chemistry\n",
       "3         4               Physics  English Language             chemistry\n",
       "4         5               Physics       Mathematics             chemistry\n",
       "5         6           Mathematics  English Language  Agricultural Science\n",
       "6         7               Biology       Mathematics             Chemistry\n",
       "7         8               Physics  English Language             Chemistry\n",
       "8         9           Mathematics           Physics      English Language\n",
       "9        10               Biology         Chemistry           Mathematics\n",
       "0        89           Mathematics          Commerce  Financial Accounting"
      ]
     },
     "execution_count": 79,
     "metadata": {},
     "output_type": "execute_result"
    }
   ],
   "source": [
    "ft"
   ]
  }
 ],
 "metadata": {
  "kernelspec": {
   "display_name": "Python 3",
   "language": "python",
   "name": "python3"
  },
  "language_info": {
   "codemirror_mode": {
    "name": "ipython",
    "version": 3
   },
   "file_extension": ".py",
   "mimetype": "text/x-python",
   "name": "python",
   "nbconvert_exporter": "python",
   "pygments_lexer": "ipython3",
   "version": "3.7.1"
  }
 },
 "nbformat": 4,
 "nbformat_minor": 2
}
